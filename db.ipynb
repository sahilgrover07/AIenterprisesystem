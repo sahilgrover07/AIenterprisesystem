{
 "cells": [
  {
   "cell_type": "markdown",
   "metadata": {},
   "source": [
    "## Conditional Probability\n",
    "\n",
    "## P(A|B)=P(A and B)/P(B)"
   ]
  },
  {
   "cell_type": "code",
   "execution_count": 2,
   "metadata": {},
   "outputs": [],
   "source": [
    "# defining function\n",
    "import pandas as pd\n",
    "def get_conditional_probabiltiy(a, b, df):\n",
    "    \"\"\"Calculates P(A|B)=P(A and B)/P(B)\"\"\"\n",
    "    \n",
    "    total = df.sum().sum()\n",
    "    \n",
    "    if b in df.columns:\n",
    "        b_numerator = df[b].sum()\n",
    "        ab_numerator = df.loc[a,b]\n",
    "    elif b in df.index:\n",
    "        b_numerator = df.loc[b].sum()\n",
    "        ab_numerator = df.loc[b,a]\n",
    "    \n",
    "    prob_b = round(b_numerator/total, 2)\n",
    "    prob_ab = round(ab_numerator/total, 2)\n",
    "    conditional_prob = round(prob_ab/prob_b, 2)\n",
    "    \n",
    "    return conditional_prob, prob_ab, prob_b"
   ]
  },
  {
   "cell_type": "code",
   "execution_count": 8,
   "metadata": {},
   "outputs": [
    {
     "data": {
      "text/html": [
       "<div>\n",
       "<style scoped>\n",
       "    .dataframe tbody tr th:only-of-type {\n",
       "        vertical-align: middle;\n",
       "    }\n",
       "\n",
       "    .dataframe tbody tr th {\n",
       "        vertical-align: top;\n",
       "    }\n",
       "\n",
       "    .dataframe thead th {\n",
       "        text-align: right;\n",
       "    }\n",
       "</style>\n",
       "<table border=\"1\" class=\"dataframe\">\n",
       "  <thead>\n",
       "    <tr style=\"text-align: right;\">\n",
       "      <th></th>\n",
       "      <th>A</th>\n",
       "      <th>~A</th>\n",
       "    </tr>\n",
       "  </thead>\n",
       "  <tbody>\n",
       "    <tr>\n",
       "      <th>B</th>\n",
       "      <td>0.207981</td>\n",
       "      <td>0.483400</td>\n",
       "    </tr>\n",
       "    <tr>\n",
       "      <th>~B</th>\n",
       "      <td>0.168200</td>\n",
       "      <td>0.140419</td>\n",
       "    </tr>\n",
       "  </tbody>\n",
       "</table>\n",
       "</div>"
      ],
      "text/plain": [
       "           A        ~A\n",
       "B   0.207981  0.483400\n",
       "~B  0.168200  0.140419"
      ]
     },
     "execution_count": 8,
     "metadata": {},
     "output_type": "execute_result"
    }
   ],
   "source": [
    "#Defining Dataframe\n",
    "import numpy as np\n",
    "num_list = np.random.random(4)\n",
    "prob_list = num_list/sum(num_list)\n",
    "prob_matrix = np.reshape(prob_list, (2,2))\n",
    "df = pd.DataFrame(prob_matrix,index=['B','~B'],columns=['A','~A'])\n",
    "df"
   ]
  },
  {
   "cell_type": "code",
   "execution_count": 11,
   "metadata": {},
   "outputs": [
    {
     "name": "stdout",
     "output_type": "stream",
     "text": [
      "PA and ~B = 0.55\n",
      "P(A and ~B) = 0.17\n"
     ]
    }
   ],
   "source": [
    "a = \"A\"\n",
    "b = \"~B\"\n",
    "conditional_prob, prob_ab, prob_b = get_conditional_probabiltiy(a,b, df)\n",
    "print(f\"P{a} and {b} = {conditional_prob}\")\n",
    "print(f\"P({a} and {b}) = {prob_ab}\")\n"
   ]
  },
  {
   "cell_type": "code",
   "execution_count": null,
   "metadata": {},
   "outputs": [],
   "source": []
  }
 ],
 "metadata": {
  "kernelspec": {
   "display_name": "Python 3",
   "language": "python",
   "name": "python3"
  },
  "language_info": {
   "codemirror_mode": {
    "name": "ipython",
    "version": 3
   },
   "file_extension": ".py",
   "mimetype": "text/x-python",
   "name": "python",
   "nbconvert_exporter": "python",
   "pygments_lexer": "ipython3",
   "version": "3.7.6"
  }
 },
 "nbformat": 4,
 "nbformat_minor": 4
}
